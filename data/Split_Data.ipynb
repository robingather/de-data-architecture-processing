{
 "cells": [
  {
   "cell_type": "code",
   "execution_count": 10,
   "id": "2ee066bb",
   "metadata": {},
   "outputs": [],
   "source": [
    "import pandas as pd\n",
    "import numpy as np\n",
    "\n",
    "N_SPLITS = 5"
   ]
  },
  {
   "cell_type": "code",
   "execution_count": 11,
   "id": "bb29edfe",
   "metadata": {},
   "outputs": [],
   "source": [
    "df = pd.read_csv(\"spotify-full.csv\")\n",
    "df_len = len(df)\n",
    "split_len = int(np.floor(df_len/N_SPLITS))"
   ]
  },
  {
   "cell_type": "code",
   "execution_count": 14,
   "id": "7ae9a852",
   "metadata": {},
   "outputs": [],
   "source": [
    "for i in range(N_SPLITS):\n",
    "    slice_name = \"spotify-\"+str(i+1)+\".csv\"\n",
    "    df.iloc[(i*split_len):((i+1)*split_len)].to_csv(slice_name)"
   ]
  },
  {
   "cell_type": "code",
   "execution_count": null,
   "id": "d8a6d79c",
   "metadata": {},
   "outputs": [],
   "source": []
  }
 ],
 "metadata": {
  "kernelspec": {
   "display_name": "Python 3 (ipykernel)",
   "language": "python",
   "name": "python3"
  },
  "language_info": {
   "codemirror_mode": {
    "name": "ipython",
    "version": 3
   },
   "file_extension": ".py",
   "mimetype": "text/x-python",
   "name": "python",
   "nbconvert_exporter": "python",
   "pygments_lexer": "ipython3",
   "version": "3.9.12"
  }
 },
 "nbformat": 4,
 "nbformat_minor": 5
}
